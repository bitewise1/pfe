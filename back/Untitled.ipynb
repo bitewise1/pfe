{
 "cells": [
  {
   "cell_type": "code",
   "execution_count": 1,
   "id": "f25bceba-77ce-41a2-a00c-d44385945383",
   "metadata": {},
   "outputs": [
    {
     "ename": "FileNotFoundError",
     "evalue": "[WinError 3] Le chemin d’accès spécifié est introuvable: 'path_to_extracted_folder'",
     "output_type": "error",
     "traceback": [
      "\u001b[31m---------------------------------------------------------------------------\u001b[39m",
      "\u001b[31mFileNotFoundError\u001b[39m                         Traceback (most recent call last)",
      "\u001b[36mCell\u001b[39m\u001b[36m \u001b[39m\u001b[32mIn[1]\u001b[39m\u001b[32m, line 7\u001b[39m\n\u001b[32m      4\u001b[39m extracted_folder = \u001b[33m'\u001b[39m\u001b[33mpath_to_extracted_folder\u001b[39m\u001b[33m'\u001b[39m  \u001b[38;5;66;03m# Replace with your extracted folder path\u001b[39;00m\n\u001b[32m      6\u001b[39m \u001b[38;5;66;03m# List the files in the extracted folder\u001b[39;00m\n\u001b[32m----> \u001b[39m\u001b[32m7\u001b[39m extracted_files = \u001b[43mos\u001b[49m\u001b[43m.\u001b[49m\u001b[43mlistdir\u001b[49m\u001b[43m(\u001b[49m\u001b[43mextracted_folder\u001b[49m\u001b[43m)\u001b[49m\n\u001b[32m      8\u001b[39m \u001b[38;5;28mprint\u001b[39m(extracted_files)\n",
      "\u001b[31mFileNotFoundError\u001b[39m: [WinError 3] Le chemin d’accès spécifié est introuvable: 'path_to_extracted_folder'"
     ]
    }
   ],
   "source": [
    "import os\n",
    "\n",
    "# Path to the extracted folder\n",
    "extracted_folder = 'path_to_extracted_folder'  # Replace with your extracted folder path\n",
    "\n",
    "# List the files in the extracted folder\n",
    "extracted_files = os.listdir(extracted_folder)\n",
    "print(extracted_files)\n",
    "\n"
   ]
  },
  {
   "cell_type": "code",
   "execution_count": 2,
   "id": "8f8c664b-042a-4e46-8e28-95fa28932323",
   "metadata": {},
   "outputs": [
    {
     "ename": "FileNotFoundError",
     "evalue": "[WinError 3] Le chemin d’accès spécifié est introuvable: 'C:/Users/MSI/Desktop/projet pfe/back/FoodComDataset'",
     "output_type": "error",
     "traceback": [
      "\u001b[31m---------------------------------------------------------------------------\u001b[39m",
      "\u001b[31mFileNotFoundError\u001b[39m                         Traceback (most recent call last)",
      "\u001b[36mCell\u001b[39m\u001b[36m \u001b[39m\u001b[32mIn[2]\u001b[39m\u001b[32m, line 7\u001b[39m\n\u001b[32m      4\u001b[39m extracted_folder = \u001b[33m'\u001b[39m\u001b[33mC:/Users/MSI/Desktop/projet pfe/back/FoodComDataset\u001b[39m\u001b[33m'\u001b[39m  \u001b[38;5;66;03m# Update path\u001b[39;00m\n\u001b[32m      6\u001b[39m \u001b[38;5;66;03m# List the files in the extracted folder\u001b[39;00m\n\u001b[32m----> \u001b[39m\u001b[32m7\u001b[39m extracted_files = \u001b[43mos\u001b[49m\u001b[43m.\u001b[49m\u001b[43mlistdir\u001b[49m\u001b[43m(\u001b[49m\u001b[43mextracted_folder\u001b[49m\u001b[43m)\u001b[49m\n\u001b[32m      8\u001b[39m \u001b[38;5;28mprint\u001b[39m(extracted_files)\n",
      "\u001b[31mFileNotFoundError\u001b[39m: [WinError 3] Le chemin d’accès spécifié est introuvable: 'C:/Users/MSI/Desktop/projet pfe/back/FoodComDataset'"
     ]
    }
   ],
   "source": [
    "import os\n",
    "\n",
    "# Replace this with the path to your extracted folder\n",
    "extracted_folder = 'C:/Users/MSI/Desktop/projet pfe/back/FoodComDataset'  # Update path\n",
    "\n",
    "# List the files in the extracted folder\n",
    "extracted_files = os.listdir(extracted_folder)\n",
    "print(extracted_files)\n",
    "\n"
   ]
  },
  {
   "cell_type": "code",
   "execution_count": 9,
   "id": "51b91b10-39cb-4400-ac3f-88fff97b1e79",
   "metadata": {},
   "outputs": [
    {
     "name": "stdout",
     "output_type": "stream",
     "text": [
      "['ingr_map.pkl', 'interactions_test.csv', 'interactions_train.csv', 'interactions_validation.csv', 'PP_recipes.csv', 'PP_users.csv', 'RAW_interactions.csv', 'RAW_recipes.csv']\n"
     ]
    }
   ],
   "source": [
    "import os\n",
    "\n",
    "# Replace this with the path to your extracted folder\n",
    "extracted_folder = 'C:/Users/MSI/Desktop/projet pfe/foodComDataset'  # Update path\n",
    "\n",
    "# List the files in the extracted folder\n",
    "extracted_files = os.listdir(extracted_folder)\n",
    "print(extracted_files)\n"
   ]
  },
  {
   "cell_type": "code",
   "execution_count": 12,
   "id": "167c33ff-2a41-43d6-9673-49d3a4cb8e9e",
   "metadata": {},
   "outputs": [
    {
     "name": "stdout",
     "output_type": "stream",
     "text": [
      "       id       i                                        name_tokens  \\\n",
      "0  424415      23  [40480, 37229, 2911, 1019, 249, 6878, 6878, 28...   \n",
      "1  146223   96900       [40480, 18376, 7056, 246, 1531, 2032, 40481]   \n",
      "2  312329  120056     [40480, 21044, 16954, 8294, 556, 10837, 40481]   \n",
      "3   74301  168258                       [40480, 10025, 31156, 40481]   \n",
      "4   76272  109030  [40480, 17841, 252, 782, 2373, 1641, 2373, 252...   \n",
      "\n",
      "                                   ingredient_tokens  \\\n",
      "0  [[2911, 1019, 249, 6878], [1353], [6953], [153...   \n",
      "1  [[17918], [25916], [2507, 6444], [8467, 1179],...   \n",
      "2  [[5867, 24176], [1353], [6953], [1301, 11332],...   \n",
      "3  [[1270, 1645, 28447], [21601], [27952, 29471, ...   \n",
      "4  [[1430, 11434], [1430, 17027], [1615, 23, 695,...   \n",
      "\n",
      "                                        steps_tokens  \\\n",
      "0  [40480, 40482, 21662, 481, 6878, 500, 246, 161...   \n",
      "1  [40480, 40482, 729, 2525, 10906, 485, 43, 8393...   \n",
      "2  [40480, 40482, 8240, 481, 24176, 296, 1353, 66...   \n",
      "3  [40480, 40482, 5539, 21601, 1073, 903, 2324, 4...   \n",
      "4  [40480, 40482, 14046, 1430, 11434, 488, 17027,...   \n",
      "\n",
      "                                          techniques  calorie_level  \\\n",
      "0  [0, 0, 0, 0, 0, 0, 0, 0, 0, 1, 0, 0, 0, 0, 0, ...              0   \n",
      "1  [1, 0, 0, 0, 0, 0, 0, 0, 0, 1, 0, 0, 0, 0, 0, ...              0   \n",
      "2  [0, 0, 0, 0, 1, 0, 0, 0, 0, 0, 0, 1, 0, 0, 0, ...              1   \n",
      "3  [1, 0, 0, 0, 0, 0, 0, 0, 0, 0, 0, 0, 0, 0, 0, ...              0   \n",
      "4  [0, 0, 0, 0, 0, 0, 0, 0, 0, 1, 0, 0, 0, 0, 0, ...              0   \n",
      "\n",
      "                                      ingredient_ids  \n",
      "0                      [389, 7655, 6270, 1527, 3406]  \n",
      "1  [2683, 4969, 800, 5298, 840, 2499, 6632, 7022,...  \n",
      "2  [1257, 7655, 6270, 590, 5024, 1119, 4883, 6696...  \n",
      "3   [7940, 3609, 7060, 6265, 1170, 6654, 5003, 3561]  \n",
      "4                            [3484, 6324, 7594, 243]  \n"
     ]
    }
   ],
   "source": [
    "import pandas as pd\n",
    "\n",
    "# Load the PP_recipes.csv file\n",
    "recipes_df = pd.read_csv(os.path.join(extracted_folder, 'PP_recipes.csv'))\n",
    "\n",
    "# Show the first few rows to inspect the data\n",
    "print(recipes_df.head())\n",
    "\n"
   ]
  },
  {
   "cell_type": "code",
   "execution_count": 13,
   "id": "0708c263-f7e0-445a-bbc8-15b6fcb52eae",
   "metadata": {},
   "outputs": [
    {
     "name": "stdout",
     "output_type": "stream",
     "text": [
      "   user_id  recipe_id        date  rating      u       i\n",
      "0     2046       4684  2000-02-25     5.0  22095   44367\n",
      "1     2046        517  2000-02-25     5.0  22095   87844\n",
      "2     1773       7435  2000-03-13     5.0  24732  138181\n",
      "3     1773        278  2000-03-13     4.0  24732   93054\n",
      "4     2046       3431  2000-04-07     5.0  22095  101723\n"
     ]
    }
   ],
   "source": [
    "interactions_df = pd.read_csv(os.path.join(extracted_folder, 'interactions_train.csv'))\n",
    "print(interactions_df.head())\n"
   ]
  },
  {
   "cell_type": "code",
   "execution_count": 18,
   "id": "c84510af-6865-44d6-9642-27a519783758",
   "metadata": {},
   "outputs": [
    {
     "ename": "ModuleNotFoundError",
     "evalue": "No module named 'pandas.core.indexes.numeric'",
     "output_type": "error",
     "traceback": [
      "\u001b[31m---------------------------------------------------------------------------\u001b[39m",
      "\u001b[31mModuleNotFoundError\u001b[39m                       Traceback (most recent call last)",
      "\u001b[36mCell\u001b[39m\u001b[36m \u001b[39m\u001b[32mIn[18]\u001b[39m\u001b[32m, line 5\u001b[39m\n\u001b[32m      3\u001b[39m \u001b[38;5;66;03m# Load the ingn_map.pkl file\u001b[39;00m\n\u001b[32m      4\u001b[39m \u001b[38;5;28;01mwith\u001b[39;00m \u001b[38;5;28mopen\u001b[39m(os.path.join(extracted_folder, \u001b[33m'\u001b[39m\u001b[33mingr_map.pkl\u001b[39m\u001b[33m'\u001b[39m), \u001b[33m'\u001b[39m\u001b[33mrb\u001b[39m\u001b[33m'\u001b[39m) \u001b[38;5;28;01mas\u001b[39;00m f:\n\u001b[32m----> \u001b[39m\u001b[32m5\u001b[39m     ingr_map = \u001b[43mpickle\u001b[49m\u001b[43m.\u001b[49m\u001b[43mload\u001b[49m\u001b[43m(\u001b[49m\u001b[43mf\u001b[49m\u001b[43m)\u001b[49m\n\u001b[32m      7\u001b[39m \u001b[38;5;66;03m# Inspect the content of the pickle file\u001b[39;00m\n\u001b[32m      8\u001b[39m \u001b[38;5;28mprint\u001b[39m(ingr_map)\n",
      "\u001b[31mModuleNotFoundError\u001b[39m: No module named 'pandas.core.indexes.numeric'"
     ]
    }
   ],
   "source": [
    "import pickle\n",
    "\n",
    "# Load the ingn_map.pkl file\n",
    "with open(os.path.join(extracted_folder, 'ingr_map.pkl'), 'rb') as f:\n",
    "    ingr_map = pickle.load(f)\n",
    "\n",
    "# Inspect the content of the pickle file\n",
    "print(ingr_map)\n"
   ]
  },
  {
   "cell_type": "code",
   "execution_count": 17,
   "id": "b7977165-04cb-4126-ae0d-a156193f381f",
   "metadata": {},
   "outputs": [],
   "source": [
    "import pandas as pd"
   ]
  },
  {
   "cell_type": "code",
   "execution_count": 19,
   "id": "c9930139-f7db-4890-875e-411860b9b004",
   "metadata": {},
   "outputs": [
    {
     "name": "stdout",
     "output_type": "stream",
     "text": [
      "                                                raw_ingr  raw_words  \\\n",
      "0      medium heads bibb or red leaf lettuce, washed,...         13   \n",
      "1                  mixed baby lettuces and spring greens          6   \n",
      "2                                   romaine lettuce leaf          3   \n",
      "3                                   iceberg lettuce leaf          3   \n",
      "4                                    red romaine lettuce          3   \n",
      "...                                                  ...        ...   \n",
      "11654                                           soybeans          1   \n",
      "11655                                              goose          1   \n",
      "11656                                             ajwain          1   \n",
      "11657                                           brinjals          1   \n",
      "11658                                              khoya          1   \n",
      "\n",
      "                                               processed  len_proc replaced  \\\n",
      "0      medium heads bibb or red leaf lettuce, washed,...        73  lettuce   \n",
      "1                   mixed baby lettuces and spring green        36  lettuce   \n",
      "2                                   romaine lettuce leaf        20  lettuce   \n",
      "3                                   iceberg lettuce leaf        20  lettuce   \n",
      "4                                    red romaine lettuce        19  lettuce   \n",
      "...                                                  ...       ...      ...   \n",
      "11654                                            soybean         7  soybean   \n",
      "11655                                              goose         5    goose   \n",
      "11656                                             ajwain         6   ajwain   \n",
      "11657                                            brinjal         7  brinjal   \n",
      "11658                                              khoya         5    khoya   \n",
      "\n",
      "       count    id  \n",
      "0       4507  4308  \n",
      "1       4507  4308  \n",
      "2       4507  4308  \n",
      "3       4507  4308  \n",
      "4       4507  4308  \n",
      "...      ...   ...  \n",
      "11654     31  6702  \n",
      "11655      8  3318  \n",
      "11656     13    47  \n",
      "11657      2   750  \n",
      "11658      6  4061  \n",
      "\n",
      "[11659 rows x 7 columns]\n"
     ]
    }
   ],
   "source": [
    "import pandas as pd\n",
    "\n",
    "# Load the ingn_map.pkl file using Pandas\n",
    "ingr_map = pd.read_pickle(os.path.join(extracted_folder, 'ingr_map.pkl'))\n",
    "\n",
    "# Inspect the content of the pickle file\n",
    "print(ingr_map)\n"
   ]
  },
  {
   "cell_type": "code",
   "execution_count": null,
   "id": "48d62733-c67c-41a6-81a4-e29ba3e0541b",
   "metadata": {},
   "outputs": [],
   "source": []
  }
 ],
 "metadata": {
  "kernelspec": {
   "display_name": "Python 3 (ipykernel)",
   "language": "python",
   "name": "python3"
  },
  "language_info": {
   "codemirror_mode": {
    "name": "ipython",
    "version": 3
   },
   "file_extension": ".py",
   "mimetype": "text/x-python",
   "name": "python",
   "nbconvert_exporter": "python",
   "pygments_lexer": "ipython3",
   "version": "3.13.2"
  }
 },
 "nbformat": 4,
 "nbformat_minor": 5
}
